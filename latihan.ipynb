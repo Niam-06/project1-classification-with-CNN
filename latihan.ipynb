{
  "nbformat": 4,
  "nbformat_minor": 0,
  "metadata": {
    "colab": {
      "provenance": [],
      "gpuType": "T4",
      "authorship_tag": "ABX9TyPfxSptmcbo2YS8BrPXdu2t",
      "include_colab_link": true
    },
    "kernelspec": {
      "name": "python3",
      "display_name": "Python 3"
    },
    "language_info": {
      "name": "python"
    },
    "accelerator": "GPU"
  },
  "cells": [
    {
      "cell_type": "markdown",
      "metadata": {
        "id": "view-in-github",
        "colab_type": "text"
      },
      "source": [
        "<a href=\"https://colab.research.google.com/github/Niam-06/project1-classification-with-CNN/blob/main/latihan.ipynb\" target=\"_parent\"><img src=\"https://colab.research.google.com/assets/colab-badge.svg\" alt=\"Open In Colab\"/></a>"
      ]
    },
    {
      "cell_type": "code",
      "execution_count": null,
      "metadata": {
        "colab": {
          "base_uri": "https://localhost:8080/"
        },
        "id": "b3Ku2PfNodCo",
        "outputId": "751cb4e0-fbdb-4206-dcf5-725693ba950a"
      },
      "outputs": [
        {
          "output_type": "stream",
          "name": "stdout",
          "text": [
            "Mounted at /content/drive\n"
          ]
        }
      ],
      "source": [
        "from google.colab import drive\n",
        "import os\n",
        "drive.mount('/content/drive')"
      ]
    },
    {
      "cell_type": "markdown",
      "source": [
        "##menyiapkan driektori"
      ],
      "metadata": {
        "id": "hkwp656KUDGM"
      }
    },
    {
      "cell_type": "code",
      "source": [
        "base_dir = '/content/drive/My Drive/dataset/'\n",
        "!ls \"/content/drive/My Drive/dataset/\""
      ],
      "metadata": {
        "colab": {
          "base_uri": "https://localhost:8080/"
        },
        "id": "_0UxwqQwT9zf",
        "outputId": "ac187d26-3230-4d4c-ff3e-ef48a2310beb"
      },
      "execution_count": null,
      "outputs": [
        {
          "output_type": "stream",
          "name": "stdout",
          "text": [
            "bahan  latih  validasi\n"
          ]
        }
      ]
    },
    {
      "cell_type": "markdown",
      "source": [
        "##Menentukan direktori"
      ],
      "metadata": {
        "id": "nQ0c04zmMmM7"
      }
    },
    {
      "cell_type": "code",
      "source": [
        "bahan_dir = os.path.join(base_dir, 'bahan')\n",
        "train_dir = os.path.join(base_dir, 'latih')\n",
        "validation_dir =os.path.join(base_dir, 'validasi')"
      ],
      "metadata": {
        "id": "SLbcKKqUO-ge"
      },
      "execution_count": null,
      "outputs": []
    },
    {
      "cell_type": "markdown",
      "source": [
        "##menentukan direktori isi bahan\n"
      ],
      "metadata": {
        "id": "OdxQcpdvVV9t"
      }
    },
    {
      "cell_type": "code",
      "source": [
        "daun_kering_dir = os.path.join(bahan_dir, 'daun_kering/')\n",
        "daun_mozaik_dir = os.path.join(bahan_dir, 'daun_mozaik/')\n",
        "daun_sehat_dir = os.path.join(bahan_dir, 'daun_sehat/')\n",
        "\n",
        "print('Jumlah Data train tiap kelas')\n",
        "print(f\"daun kering: {len(os.listdir(daun_kering_dir))}\")\n",
        "print(f\"daun mozaik: {len(os.listdir(daun_mozaik_dir))}\")\n",
        "print(f\"daun sehat: {len(os.listdir(daun_sehat_dir))}\")\n"
      ],
      "metadata": {
        "colab": {
          "base_uri": "https://localhost:8080/"
        },
        "id": "ahvenbBIVS_d",
        "outputId": "22db5901-d7f8-4d3a-da46-c3d1292dc752"
      },
      "execution_count": null,
      "outputs": [
        {
          "output_type": "stream",
          "name": "stdout",
          "text": [
            "Jumlah Data train tiap kelas\n",
            "daun kering: 237\n",
            "daun mozaik: 311\n",
            "daun sehat: 235\n"
          ]
        }
      ]
    },
    {
      "cell_type": "code",
      "source": [
        "# direktori isi latih/training\n",
        "train_daun_kering = os.path.join(train_dir, 'daun_kering/')\n",
        "train_daun_mozaik = os.path.join(train_dir, 'daun_mozaik/')\n",
        "train_daun_sehat = os.path.join(train_dir, 'daun_sehat/')\n",
        "\n",
        "#direktori isi validasi\n",
        "validation_daun_kering = os.path.join(validation_dir, 'daun_kering/')\n",
        "validation_daun_mozaik = os.path.join(validation_dir, 'daun_mozaik/')\n",
        "validation_daun_sehat = os.path.join(validation_dir, 'daun_sehat/')"
      ],
      "metadata": {
        "id": "TT-VAfqtXpbg"
      },
      "execution_count": null,
      "outputs": []
    },
    {
      "cell_type": "markdown",
      "source": [
        "##menyiapkan dataset"
      ],
      "metadata": {
        "id": "TlUuFb7SiP3v"
      }
    },
    {
      "cell_type": "code",
      "source": [
        "import random\n",
        "from shutil import copyfile\n",
        "\n",
        "def train_val_split(source, train, val, train_ratio):\n",
        "    total_size = len(os.listdir(source))\n",
        "    train_size = int(train_ratio * total_size)\n",
        "    val_size = total_size - train_size\n",
        "\n",
        "    randomized = random.sample(os.listdir(source), total_size)\n",
        "    train_files = randomized[0:train_size]\n",
        "    val_files = randomized[train_size:total_size]\n",
        "\n",
        "    for i in train_files:\n",
        "        i_file = os.path.join(source, i)\n",
        "        destination = os.path.join(train, i)\n",
        "        copyfile(i_file, destination)\n",
        "\n",
        "    for i in val_files:\n",
        "        i_file = os.path.join(source, i)\n",
        "        destination = os.path.join(val, i)\n",
        "        copyfile(i_file, destination)\n",
        "\n",
        "# Jumlah pembagian data train & testing\n",
        "train_ratio = 0.9\n",
        "\n",
        "# Pembagian training dan validasi\n",
        "source_00 = daun_kering_dir\n",
        "train_00 = train_daun_kering\n",
        "val_00 = validation_daun_kering\n",
        "train_val_split(source_00, train_00, val_00, train_ratio)\n",
        "\n",
        "source_01 = daun_mozaik_dir\n",
        "train_01 = train_daun_mozaik\n",
        "val_01 = validation_daun_mozaik\n",
        "train_val_split(source_01, train_01, val_01, train_ratio)\n",
        "\n",
        "source_02 = daun_sehat_dir\n",
        "train_02 = train_daun_sehat\n",
        "val_02 = validation_daun_sehat\n",
        "train_val_split(source_02, train_02, val_02, train_ratio)\n"
      ],
      "metadata": {
        "id": "jQrgGIMAYFYh"
      },
      "execution_count": null,
      "outputs": []
    },
    {
      "cell_type": "code",
      "source": [
        "print('total daun_kering            :\" ', len(os.listdir(daun_kering_dir)))\n",
        "print('total train daun_kering      :\" ', len(os.listdir(train_daun_kering)))\n",
        "print('total val daun_kering        :\" ', len(os.listdir(validation_daun_kering)))"
      ],
      "metadata": {
        "colab": {
          "base_uri": "https://localhost:8080/"
        },
        "id": "bpf0G89inPoe",
        "outputId": "d0002097-eb29-45ba-da0c-5aedb2f42828"
      },
      "execution_count": null,
      "outputs": [
        {
          "output_type": "stream",
          "name": "stdout",
          "text": [
            "total daun_kering            :\"  237\n",
            "total train daun_kering      :\"  235\n",
            "total val daun_kering        :\"  46\n"
          ]
        }
      ]
    },
    {
      "cell_type": "markdown",
      "source": [
        "##pre processing"
      ],
      "metadata": {
        "id": "Iiebm8v4tp4C"
      }
    },
    {
      "cell_type": "code",
      "source": [
        "import tensorflow as tf\n",
        "from tensorflow.keras.optimizers import Adam\n",
        "from tensorflow.keras.preprocessing.image import ImageDataGenerator"
      ],
      "metadata": {
        "id": "TDDXzT74pZwz"
      },
      "execution_count": null,
      "outputs": []
    },
    {
      "cell_type": "code",
      "source": [
        "train_datagen = ImageDataGenerator(\n",
        "                    rescale=1./255,\n",
        "                    rotation_range=30,\n",
        "                    horizontal_flip=True,\n",
        "                    shear_range = 0.2,\n",
        "                    fill_mode = 'nearest',\n",
        "                    width_shift_range=0.2,\n",
        "                    height_shift_range=0.2,\n",
        "                    zoom_range=0.2\n",
        ")\n",
        "\n",
        "test_datagen = ImageDataGenerator(\n",
        "                    rescale=1./255,\n",
        "                    rotation_range=30,\n",
        "                    horizontal_flip=True,\n",
        "                    shear_range = 0.2,\n",
        "                    fill_mode = 'nearest',\n",
        "                    width_shift_range=0.2,\n",
        "                    height_shift_range=0.2,\n",
        "                    zoom_range=0.2\n",
        ")"
      ],
      "metadata": {
        "id": "Im0jkiS_uB4-"
      },
      "execution_count": null,
      "outputs": []
    },
    {
      "cell_type": "code",
      "source": [
        "# target\n",
        "train_generator = train_datagen.flow_from_directory(\n",
        "        train_dir,\n",
        "        target_size=(150, 150),\n",
        "        batch_size=32,\n",
        "        class_mode='categorical')\n",
        "\n",
        "validation_generator = test_datagen.flow_from_directory(\n",
        "        validation_dir,\n",
        "        target_size=(150, 150),\n",
        "        batch_size=32,\n",
        "        class_mode='categorical')"
      ],
      "metadata": {
        "colab": {
          "base_uri": "https://localhost:8080/"
        },
        "id": "1Kr_bGYdu-cJ",
        "outputId": "4734b45e-3b4a-4ee8-9f98-b8815f3a5691"
      },
      "execution_count": null,
      "outputs": [
        {
          "output_type": "stream",
          "name": "stdout",
          "text": [
            "Found 775 images belonging to 3 classes.\n",
            "Found 152 images belonging to 3 classes.\n"
          ]
        }
      ]
    },
    {
      "cell_type": "code",
      "source": [
        "class myCallback(tf.keras.callbacks.Callback):\n",
        "  def on_epoch_end(self, epoch, logs={}):\n",
        "    if(logs.get('accuracy')>0.99):\n",
        "      print(\"\\nAkurasi telah mencapai >99%!\")\n",
        "      self.model.stop_training = True\n",
        "callbacks = myCallback()\n"
      ],
      "metadata": {
        "id": "-ayWa11ovUSG"
      },
      "execution_count": null,
      "outputs": []
    },
    {
      "cell_type": "markdown",
      "source": [
        "##model CNN"
      ],
      "metadata": {
        "id": "QPz5PNxmvwDm"
      }
    },
    {
      "cell_type": "code",
      "source": [
        "model = tf.keras.models.Sequential([\n",
        "    tf.keras.layers.Conv2D(16, (3, 3), activation='relu', input_shape=(150, 150, 3)),\n",
        "    tf.keras.layers.MaxPooling2D(2, 2),\n",
        "    tf.keras.layers.Conv2D(32, (3, 3), activation='relu'),\n",
        "    tf.keras.layers.MaxPooling2D(2, 2),\n",
        "    tf.keras.layers.Conv2D(64, (3, 3), activation='relu'),\n",
        "    tf.keras.layers.MaxPooling2D(2, 2),\n",
        "    tf.keras.layers.Flatten(),\n",
        "    tf.keras.layers.Dense(500, activation='relu'),\n",
        "    tf.keras.layers.Dropout(0.3, seed=112),\n",
        "    tf.keras.layers.Dense(300, activation='relu'),\n",
        "    tf.keras.layers.Dropout(0.5, seed=112),\n",
        "    tf.keras.layers.Dense(3, activation='softmax')\n",
        "])\n"
      ],
      "metadata": {
        "id": "8gK3KqcHvrZh"
      },
      "execution_count": null,
      "outputs": []
    },
    {
      "cell_type": "code",
      "source": [
        "model.summary()"
      ],
      "metadata": {
        "colab": {
          "base_uri": "https://localhost:8080/"
        },
        "id": "z4UpXu4YxMSM",
        "outputId": "33a4238b-0a8d-4e66-f6cd-a74cf9ad69b4"
      },
      "execution_count": null,
      "outputs": [
        {
          "output_type": "stream",
          "name": "stdout",
          "text": [
            "Model: \"sequential\"\n",
            "_________________________________________________________________\n",
            " Layer (type)                Output Shape              Param #   \n",
            "=================================================================\n",
            " conv2d (Conv2D)             (None, 148, 148, 16)      448       \n",
            "                                                                 \n",
            " max_pooling2d (MaxPooling2  (None, 74, 74, 16)        0         \n",
            " D)                                                              \n",
            "                                                                 \n",
            " conv2d_1 (Conv2D)           (None, 72, 72, 32)        4640      \n",
            "                                                                 \n",
            " max_pooling2d_1 (MaxPoolin  (None, 36, 36, 32)        0         \n",
            " g2D)                                                            \n",
            "                                                                 \n",
            " conv2d_2 (Conv2D)           (None, 34, 34, 64)        18496     \n",
            "                                                                 \n",
            " max_pooling2d_2 (MaxPoolin  (None, 17, 17, 64)        0         \n",
            " g2D)                                                            \n",
            "                                                                 \n",
            " flatten (Flatten)           (None, 18496)             0         \n",
            "                                                                 \n",
            " dense (Dense)               (None, 500)               9248500   \n",
            "                                                                 \n",
            " dropout (Dropout)           (None, 500)               0         \n",
            "                                                                 \n",
            " dense_1 (Dense)             (None, 300)               150300    \n",
            "                                                                 \n",
            " dropout_1 (Dropout)         (None, 300)               0         \n",
            "                                                                 \n",
            " dense_2 (Dense)             (None, 3)                 903       \n",
            "                                                                 \n",
            "=================================================================\n",
            "Total params: 9423287 (35.95 MB)\n",
            "Trainable params: 9423287 (35.95 MB)\n",
            "Non-trainable params: 0 (0.00 Byte)\n",
            "_________________________________________________________________\n"
          ]
        }
      ]
    },
    {
      "cell_type": "markdown",
      "source": [],
      "metadata": {
        "id": "FK39QAPO2TWJ"
      }
    },
    {
      "cell_type": "code",
      "source": [
        "# cmopile model\n",
        "model.compile(loss='categorical_crossentropy',\n",
        "              optimizer=Adam(learning_rate=0.001),\n",
        "              metrics=['accuracy'])"
      ],
      "metadata": {
        "id": "kIDxcKvjx4Ac"
      },
      "execution_count": null,
      "outputs": []
    },
    {
      "cell_type": "code",
      "source": [
        "# pelatihan model\n",
        "history = model.fit(\n",
        "      train_generator,\n",
        "      steps_per_epoch=9,\n",
        "      epochs=25,\n",
        "      validation_data=validation_generator,\n",
        "      validation_steps=1,\n",
        "      verbose=1,\n",
        "      callbacks=[callbacks])"
      ],
      "metadata": {
        "colab": {
          "base_uri": "https://localhost:8080/"
        },
        "id": "98rrrGL2yHSn",
        "outputId": "7766e9bc-ee7c-4e15-ed2d-3dc0491ba7cd"
      },
      "execution_count": null,
      "outputs": [
        {
          "output_type": "stream",
          "name": "stdout",
          "text": [
            "Epoch 1/25\n",
            "9/9 [==============================] - 22s 3s/step - loss: 0.1686 - accuracy: 0.9430 - val_loss: 0.0596 - val_accuracy: 0.9688\n",
            "Epoch 2/25\n",
            "9/9 [==============================] - 22s 2s/step - loss: 0.0839 - accuracy: 0.9618 - val_loss: 0.0255 - val_accuracy: 1.0000\n",
            "Epoch 3/25\n",
            "9/9 [==============================] - 22s 2s/step - loss: 0.0741 - accuracy: 0.9688 - val_loss: 0.0350 - val_accuracy: 1.0000\n",
            "Epoch 4/25\n",
            "9/9 [==============================] - 24s 3s/step - loss: 0.2406 - accuracy: 0.9132 - val_loss: 0.1055 - val_accuracy: 0.9688\n",
            "Epoch 5/25\n",
            "9/9 [==============================] - 23s 3s/step - loss: 0.3062 - accuracy: 0.8924 - val_loss: 0.1145 - val_accuracy: 0.9375\n",
            "Epoch 6/25\n",
            "9/9 [==============================] - 22s 3s/step - loss: 0.1832 - accuracy: 0.9306 - val_loss: 0.0528 - val_accuracy: 1.0000\n",
            "Epoch 7/25\n",
            "9/9 [==============================] - 26s 3s/step - loss: 0.0907 - accuracy: 0.9653 - val_loss: 0.0390 - val_accuracy: 1.0000\n",
            "Epoch 8/25\n",
            "9/9 [==============================] - 23s 3s/step - loss: 0.0804 - accuracy: 0.9696 - val_loss: 0.1279 - val_accuracy: 0.9688\n",
            "Epoch 9/25\n",
            "9/9 [==============================] - 23s 3s/step - loss: 0.1863 - accuracy: 0.9375 - val_loss: 0.2053 - val_accuracy: 0.9062\n",
            "Epoch 10/25\n",
            "9/9 [==============================] - 22s 2s/step - loss: 0.1094 - accuracy: 0.9696 - val_loss: 0.1032 - val_accuracy: 0.9688\n",
            "Epoch 11/25\n",
            "9/9 [==============================] - 20s 2s/step - loss: 0.0843 - accuracy: 0.9658 - val_loss: 0.0297 - val_accuracy: 0.9688\n",
            "Epoch 12/25\n",
            "9/9 [==============================] - 21s 2s/step - loss: 0.0862 - accuracy: 0.9696 - val_loss: 0.1672 - val_accuracy: 0.9062\n",
            "Epoch 13/25\n",
            "9/9 [==============================] - 22s 2s/step - loss: 0.2228 - accuracy: 0.9236 - val_loss: 0.0994 - val_accuracy: 0.9375\n",
            "Epoch 14/25\n",
            "9/9 [==============================] - 22s 2s/step - loss: 0.1751 - accuracy: 0.9583 - val_loss: 0.0865 - val_accuracy: 1.0000\n",
            "Epoch 15/25\n",
            "9/9 [==============================] - 23s 3s/step - loss: 0.2582 - accuracy: 0.8993 - val_loss: 0.2278 - val_accuracy: 0.8750\n",
            "Epoch 16/25\n",
            "9/9 [==============================] - 22s 3s/step - loss: 0.1384 - accuracy: 0.9583 - val_loss: 0.0403 - val_accuracy: 0.9688\n",
            "Epoch 17/25\n",
            "9/9 [==============================] - 20s 2s/step - loss: 0.0820 - accuracy: 0.9734 - val_loss: 0.0567 - val_accuracy: 0.9688\n",
            "Epoch 18/25\n",
            "9/9 [==============================] - 22s 2s/step - loss: 0.0528 - accuracy: 0.9826 - val_loss: 0.0485 - val_accuracy: 0.9688\n",
            "Epoch 19/25\n",
            "9/9 [==============================] - 20s 2s/step - loss: 0.0517 - accuracy: 0.9810 - val_loss: 0.0173 - val_accuracy: 1.0000\n",
            "Epoch 20/25\n",
            "9/9 [==============================] - 23s 3s/step - loss: 0.0357 - accuracy: 0.9861 - val_loss: 0.0133 - val_accuracy: 1.0000\n",
            "Epoch 21/25\n",
            "9/9 [==============================] - 20s 2s/step - loss: 0.0497 - accuracy: 0.9810 - val_loss: 0.0022 - val_accuracy: 1.0000\n",
            "Epoch 22/25\n",
            "9/9 [==============================] - ETA: 0s - loss: 0.0242 - accuracy: 0.9924\n",
            "Akurasi telah mencapai >99%!\n",
            "9/9 [==============================] - 22s 2s/step - loss: 0.0242 - accuracy: 0.9924 - val_loss: 0.0259 - val_accuracy: 0.9688\n"
          ]
        }
      ]
    },
    {
      "cell_type": "code",
      "source": [
        "%matplotlib inline\n",
        "\n",
        "import matplotlib.pyplot as plt\n",
        "import matplotlib.image as mpimg\n",
        "\n",
        "acc = history.history['accuracy']\n",
        "val_acc = history.history['val_accuracy']\n",
        "loss = history.history['loss']\n",
        "val_loss = history.history['val_loss']\n",
        "\n",
        "epochs = range(len(acc))\n",
        "\n",
        "\n",
        "plt.plot(epochs, acc, 'r', label='Training accuracy')\n",
        "plt.plot(epochs, val_acc, 'b', label='Validation accuracy')\n",
        "plt.title('Training and validation accuracy')\n",
        "plt.legend(loc = 'best')\n",
        "plt.show()\n",
        "\n",
        "plt.plot(epochs, loss, 'r', label='Training Loss')\n",
        "plt.plot(epochs, val_loss, 'b', label='Validation Loss')\n",
        "plt.title('Training and validation accuracy')\n",
        "plt.legend(loc = 'best')\n",
        "plt.show()"
      ],
      "metadata": {
        "id": "K6wV5bVDy_4g",
        "colab": {
          "base_uri": "https://localhost:8080/",
          "height": 887
        },
        "outputId": "86748068-ed50-42a1-8a16-a20027e07872"
      },
      "execution_count": null,
      "outputs": [
        {
          "output_type": "display_data",
          "data": {
            "text/plain": [
              "<Figure size 640x480 with 1 Axes>"
            ],
            "image/png": "[encoded data removed]"
          },
          "metadata": {}
        },
        {
          "output_type": "display_data",
          "data": {
            "text/plain": [
              "<Figure size 640x480 with 1 Axes>"
            ],
            "image/png": "[encoded data removed]"
          },
          "metadata": {}
        }
      ]
    },
    {
      "cell_type": "markdown",
      "source": [
        "##testing model"
      ],
      "metadata": {
        "id": "oRZ5rJ1JMVnw"
      }
    },
    {
      "cell_type": "code",
      "source": [
        "import numpy as np\n",
        "from google.colab import files\n",
        "from keras.preprocessing import image\n",
        "import matplotlib.pyplot as plt\n",
        "import matplotlib.image as mpimg\n",
        "%matplotlib inline\n",
        "\n",
        "# Definisikan daftar kelas\n",
        "class_list = ['daun kering', 'daun mozaik', 'daun sehat']\n",
        "\n",
        "uploaded = files.upload()\n",
        "\n",
        "for fn in uploaded.keys():\n",
        "    # Prediksi gambar\n",
        "    path = fn\n",
        "    img = load_img(path, target_size=(150, 150))\n",
        "    x = np.array(img)\n",
        "    x = np.expand_dims(x, axis=0)\n",
        "\n",
        "    image = np.vstack([x])\n",
        "    classes = model.predict(image, batch_size=10)\n",
        "\n",
        "    print(fn)\n",
        "\n",
        "    # Ambil indeks kelas dengan probabilitas tertinggi\n",
        "    predicted_class_index = np.argmax(classes[0])\n",
        "    predicted_class = class_list[predicted_class_index]\n",
        "    print('Gambar ini termasuk dalam kelas:', predicted_class)\n"
      ],
      "metadata": {
        "colab": {
          "base_uri": "https://localhost:8080/",
          "height": 123
        },
        "id": "pUGxsy11KkzN",
        "outputId": "28da9cb1-0c2e-4908-96aa-6d18f9feab88"
      },
      "execution_count": 31,
      "outputs": [
        {
          "output_type": "display_data",
          "data": {
            "text/plain": [
              "<IPython.core.display.HTML object>"
            ],
            "text/html": [
              "\n",
              "     <input type=\"file\" id=\"files-827fe2b5-6e3a-4a1d-9a73-d9b5e9619ae6\" name=\"files[]\" multiple disabled\n",
              "        style=\"border:none\" />\n",
              "     <output id=\"result-827fe2b5-6e3a-4a1d-9a73-d9b5e9619ae6\">\n",
              "      Upload widget is only available when the cell has been executed in the\n",
              "      current browser session. Please rerun this cell to enable.\n",
              "      </output>\n",
              "      <script>// Copyright 2017 Google LLC\n",
              "//\n",
              "// Licensed under the Apache License, Version 2.0 (the \"License\");\n",
              "// you may not use this file except in compliance with the License.\n",
              "// You may obtain a copy of the License at\n",
              "//\n",
              "//      http://www.apache.org/licenses/LICENSE-2.0\n",
              "//\n",
              "// Unless required by applicable law or agreed to in writing, software\n",
              "// distributed under the License is distributed on an \"AS IS\" BASIS,\n",
              "// WITHOUT WARRANTIES OR CONDITIONS OF ANY KIND, either express or implied.\n",
              "// See the License for the specific language governing permissions and\n",
              "// limitations under the License.\n",
              "\n",
              "/**\n",
              " * @fileoverview Helpers for google.colab Python module.\n",
              " */\n",
              "(function(scope) {\n",
              "function span(text, styleAttributes = {}) {\n",
              "  const element = document.createElement('span');\n",
              "  element.textContent = text;\n",
              "  for (const key of Object.keys(styleAttributes)) {\n",
              "    element.style[key] = styleAttributes[key];\n",
              "  }\n",
              "  return element;\n",
              "}\n",
              "\n",
              "// Max number of bytes which will be uploaded at a time.\n",
              "const MAX_PAYLOAD_SIZE = 100 * 1024;\n",
              "\n",
              "function _uploadFiles(inputId, outputId) {\n",
              "  const steps = uploadFilesStep(inputId, outputId);\n",
              "  const outputElement = document.getElementById(outputId);\n",
              "  // Cache steps on the outputElement to make it available for the next call\n",
              "  // to uploadFilesContinue from Python.\n",
              "  outputElement.steps = steps;\n",
              "\n",
              "  return _uploadFilesContinue(outputId);\n",
              "}\n",
              "\n",
              "// This is roughly an async generator (not supported in the browser yet),\n",
              "// where there are multiple asynchronous steps and the Python side is going\n",
              "// to poll for completion of each step.\n",
              "// This uses a Promise to block the python side on completion of each step,\n",
              "// then passes the result of the previous step as the input to the next step.\n",
              "function _uploadFilesContinue(outputId) {\n",
              "  const outputElement = document.getElementById(outputId);\n",
              "  const steps = outputElement.steps;\n",
              "\n",
              "  const next = steps.next(outputElement.lastPromiseValue);\n",
              "  return Promise.resolve(next.value.promise).then((value) => {\n",
              "    // Cache the last promise value to make it available to the next\n",
              "    // step of the generator.\n",
              "    outputElement.lastPromiseValue = value;\n",
              "    return next.value.response;\n",
              "  });\n",
              "}\n",
              "\n",
              "/**\n",
              " * Generator function which is called between each async step of the upload\n",
              " * process.\n",
              " * @param {string} inputId Element ID of the input file picker element.\n",
              " * @param {string} outputId Element ID of the output display.\n",
              " * @return {!Iterable<!Object>} Iterable of next steps.\n",
              " */\n",
              "function* uploadFilesStep(inputId, outputId) {\n",
              "  const inputElement = document.getElementById(inputId);\n",
              "  inputElement.disabled = false;\n",
              "\n",
              "  const outputElement = document.getElementById(outputId);\n",
              "  outputElement.innerHTML = '';\n",
              "\n",
              "  const pickedPromise = new Promise((resolve) => {\n",
              "    inputElement.addEventListener('change', (e) => {\n",
              "      resolve(e.target.files);\n",
              "    });\n",
              "  });\n",
              "\n",
              "  const cancel = document.createElement('button');\n",
              "  inputElement.parentElement.appendChild(cancel);\n",
              "  cancel.textContent = 'Cancel upload';\n",
              "  const cancelPromise = new Promise((resolve) => {\n",
              "    cancel.onclick = () => {\n",
              "      resolve(null);\n",
              "    };\n",
              "  });\n",
              "\n",
              "  // Wait for the user to pick the files.\n",
              "  const files = yield {\n",
              "    promise: Promise.race([pickedPromise, cancelPromise]),\n",
              "    response: {\n",
              "      action: 'starting',\n",
              "    }\n",
              "  };\n",
              "\n",
              "  cancel.remove();\n",
              "\n",
              "  // Disable the input element since further picks are not allowed.\n",
              "  inputElement.disabled = true;\n",
              "\n",
              "  if (!files) {\n",
              "    return {\n",
              "      response: {\n",
              "        action: 'complete',\n",
              "      }\n",
              "    };\n",
              "  }\n",
              "\n",
              "  for (const file of files) {\n",
              "    const li = document.createElement('li');\n",
              "    li.append(span(file.name, {fontWeight: 'bold'}));\n",
              "    li.append(span(\n",
              "        `(${file.type || 'n/a'}) - ${file.size} bytes, ` +\n",
              "        `last modified: ${\n",
              "            file.lastModifiedDate ? file.lastModifiedDate.toLocaleDateString() :\n",
              "                                    'n/a'} - `));\n",
              "    const percent = span('0% done');\n",
              "    li.appendChild(percent);\n",
              "\n",
              "    outputElement.appendChild(li);\n",
              "\n",
              "    const fileDataPromise = new Promise((resolve) => {\n",
              "      const reader = new FileReader();\n",
              "      reader.onload = (e) => {\n",
              "        resolve(e.target.result);\n",
              "      };\n",
              "      reader.readAsArrayBuffer(file);\n",
              "    });\n",
              "    // Wait for the data to be ready.\n",
              "    let fileData = yield {\n",
              "      promise: fileDataPromise,\n",
              "      response: {\n",
              "        action: 'continue',\n",
              "      }\n",
              "    };\n",
              "\n",
              "    // Use a chunked sending to avoid message size limits. See b/62115660.\n",
              "    let position = 0;\n",
              "    do {\n",
              "      const length = Math.min(fileData.byteLength - position, MAX_PAYLOAD_SIZE);\n",
              "      const chunk = new Uint8Array(fileData, position, length);\n",
              "      position += length;\n",
              "\n",
              "      const base64 = btoa(String.fromCharCode.apply(null, chunk));\n",
              "      yield {\n",
              "        response: {\n",
              "          action: 'append',\n",
              "          file: file.name,\n",
              "          data: base64,\n",
              "        },\n",
              "      };\n",
              "\n",
              "      let percentDone = fileData.byteLength === 0 ?\n",
              "          100 :\n",
              "          Math.round((position / fileData.byteLength) * 100);\n",
              "      percent.textContent = `${percentDone}% done`;\n",
              "\n",
              "    } while (position < fileData.byteLength);\n",
              "  }\n",
              "\n",
              "  // All done.\n",
              "  yield {\n",
              "    response: {\n",
              "      action: 'complete',\n",
              "    }\n",
              "  };\n",
              "}\n",
              "\n",
              "scope.google = scope.google || {};\n",
              "scope.google.colab = scope.google.colab || {};\n",
              "scope.google.colab._files = {\n",
              "  _uploadFiles,\n",
              "  _uploadFilesContinue,\n",
              "};\n",
              "})(self);\n",
              "</script> "
            ]
          },
          "metadata": {}
        },
        {
          "output_type": "stream",
          "name": "stdout",
          "text": [
            "Saving 3.jpg to 3 (1).jpg\n",
            "1/1 [==============================] - 0s 44ms/step\n",
            "3 (1).jpg\n",
            "Gambar ini termasuk dalam kelas: daun sehat\n"
          ]
        }
      ]
    },
    {
      "cell_type": "code",
      "source": [],
      "metadata": {
        "id": "2wUGoLVPNrZL"
      },
      "execution_count": null,
      "outputs": []
    }
  ]
}